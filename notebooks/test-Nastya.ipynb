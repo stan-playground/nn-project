{
 "cells": [
  {
   "cell_type": "code",
   "execution_count": null,
   "metadata": {},
   "outputs": [],
   "source": [
    "class Model(nn.Module):\n",
    "    def __init__(self):\n",
    "        super().__init__()\n",
    "\n",
    "        self.fc_1 = nn.Linear(33, 1)\n",
    "        self.fc_2 = nn.Linear(33, 2)\n",
    "\n",
    "    def forward(self, x):\n",
    "        out = self.fc_1(x)\n",
    "        out = self.fc_2(out)\n",
    "        return out\n",
    "    \n",
    "model = Model()"
   ]
  },
  {
   "cell_type": "code",
   "execution_count": null,
   "metadata": {},
   "outputs": [],
   "source": []
  },
  {
   "cell_type": "code",
   "execution_count": null,
   "metadata": {},
   "outputs": [],
   "source": [
    "#streamlit \n",
    "import class model \n",
    "model.load_state_dict(torch.load('weights.pt'))\n",
    "\n",
    "def preprocess_model():\n",
    "    mob_model = mobilenet_v3_small()\n",
    "    mob_model.classifier[3] = nn.Linear(1024, 1)\n",
    "    mob_model.load_state_dict(...)\n",
    "    mob_model.eval()\n",
    "    return mob_model"
   ]
  }
 ],
 "metadata": {
  "language_info": {
   "name": "python"
  }
 },
 "nbformat": 4,
 "nbformat_minor": 2
}
